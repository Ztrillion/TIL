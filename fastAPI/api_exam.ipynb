{
 "cells": [
  {
   "cell_type": "code",
   "execution_count": 2,
   "metadata": {},
   "outputs": [],
   "source": [
    "import requests,json\n",
    "filePath = 'C:/Users/combus-rnd/ai_vision_test/yolodata/images/exam_00000431.jpg'\n",
    "with open(filePath, 'rb') as f:\n",
    "    response = requests.post(\"http://127.0.0.1:8000/predict/\", files={\"file\": f})\n",
    "    predictions = json.loads(response.text)[\"xywhn\"]\n",
    "    # 예측 결과 표시\n"
   ]
  },
  {
   "cell_type": "code",
   "execution_count": 10,
   "metadata": {},
   "outputs": [
    {
     "name": "stdout",
     "output_type": "stream",
     "text": [
      "0.5789498090744019\n",
      "0.4281443953514099\n"
     ]
    }
   ],
   "source": [
    "for pre in predictions:\n",
    "      print(pre['xcenter'])"
   ]
  },
  {
   "cell_type": "markdown",
   "metadata": {},
   "source": [
    "with open('lib/custom_model.pt', 'wb') as file:\n",
    "           pickle.dump(grid, file)"
   ]
  }
 ],
 "metadata": {
  "kernelspec": {
   "display_name": "build",
   "language": "python",
   "name": "python3"
  },
  "language_info": {
   "codemirror_mode": {
    "name": "ipython",
    "version": 3
   },
   "file_extension": ".py",
   "mimetype": "text/x-python",
   "name": "python",
   "nbconvert_exporter": "python",
   "pygments_lexer": "ipython3",
   "version": "3.11.5"
  },
  "orig_nbformat": 4
 },
 "nbformat": 4,
 "nbformat_minor": 2
}
