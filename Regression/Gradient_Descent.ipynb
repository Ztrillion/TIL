{
 "cells": [
  {
   "cell_type": "markdown",
   "id": "8603df9d",
   "metadata": {},
   "source": [
    "# Gradient Descent\n",
    "\n",
    "- 실제값을 Y=4X+6 시뮬레이션하는 데이터 값 생성"
   ]
  },
  {
   "cell_type": "code",
   "execution_count": 1,
   "id": "b229108f",
   "metadata": {},
   "outputs": [
    {
     "name": "stdout",
     "output_type": "stream",
     "text": [
      "X.shape:  (100, 1) y.shape:  (100, 1)\n"
     ]
    },
    {
     "data": {
      "text/plain": [
       "<matplotlib.collections.PathCollection at 0x18f7feaf3d0>"
      ]
     },
     "execution_count": 1,
     "metadata": {},
     "output_type": "execute_result"
    },
    {
     "data": {
      "image/png": "[encoded data removed]",
      "text/plain": [
       "<Figure size 432x288 with 1 Axes>"
      ]
     },
     "metadata": {
      "needs_background": "light"
     },
     "output_type": "display_data"
    }
   ],
   "source": [
    "import numpy as np\n",
    "import matplotlib.pyplot as plt\n",
    "%matplotlib inline\n",
    "\n",
    "np.random.seed(0)\n",
    "X = 2 * np.random.rand(100,1)\n",
    "y = 6+4 * X + np.random.randn(100,1)\n",
    "print(\"X.shape: \",X.shape,\"y.shape: \", y.shape)\n",
    "plt.scatter(X,y)"
   ]
  },
  {
   "cell_type": "markdown",
   "id": "0ef351f3",
   "metadata": {},
   "source": [
    "get_weight_updates() : w0과 w1의 값을 최소화 할 수 있도록 업데이트 수행하는 함수\n",
    "\n",
    "- 예측 배열 y_pred는 np.dot(X,w1.T) + w0, 100개의 데이터가 있다면 예측값은 w0 + X(1)* w1 +X(2) * w1 +..+X(100) * w1 이며\n",
    "  이는 입력배열 X와 w1배열의 내적임"
   ]
  },
  {
   "cell_type": "code",
   "execution_count": 2,
   "id": "4c13eee6",
   "metadata": {},
   "outputs": [],
   "source": [
    "def get_weight_updates(w1,w0,X,y, learning_rate=0.01):\n",
    "    N = len(y)\n",
    "    # w1_update, w0_date 를 각각 w1, w0 의 shape와 동일한 크기를 가진 0값으로 초기화\n",
    "    w1_update = np.zeros_like(w1)\n",
    "    w0_update = np.zeros_like(w0)\n",
    "    \n",
    "    # 예측배열 계산 후 예측값과 실제값의 차이 계산\n",
    "    y_pred = np.dot(X,w1.T) + w0\n",
    "    diff = y-y_pred\n",
    "    \n",
    "    # w0_update를 dot 행렬 연산으로 구하기 위해 모두 1값을 가진 행렬 생성\n",
    "    w0_factor = np.ones((N,1))\n",
    "    \n",
    "    # w1, w0을 업데이트 할 w1_update와 w0_update 계산\n",
    "    w1_update = -(2/N)*learning_rate*(np.dot(X.T, diff))\n",
    "    w0_update = -(2/N) * learning_rate * (np.dot(w0_factor.T, diff))\n",
    "    \n",
    "    return w1_update, w0_update"
   ]
  },
  {
   "cell_type": "code",
   "execution_count": 3,
   "id": "868b4a73",
   "metadata": {},
   "outputs": [
    {
     "name": "stdout",
     "output_type": "stream",
     "text": [
      "(100, 1)\n",
      "(1, 1) (1, 1)\n"
     ]
    },
    {
     "data": {
      "text/plain": [
       "(array([[0.]]), array([[0.]]))"
      ]
     },
     "execution_count": 3,
     "metadata": {},
     "output_type": "execute_result"
    }
   ],
   "source": [
    "w0 = np.zeros((1,1))\n",
    "w1 = np.zeros((1,1))\n",
    "\n",
    "y_pred = np.dot(X,w1.T) + w0\n",
    "diff = y - y_pred\n",
    "print(diff.shape)\n",
    "\n",
    "w0_factors = np.ones((100,1))\n",
    "w1_update = -(2/100) * 0.01 * (np.dot(X.T,diff))\n",
    "w0_update = -(2/100) * 0.01 * (np.dot(w0_factors.T,diff))\n",
    "print(w1_update.shape, w0_update.shape)\n",
    "w1,w0"
   ]
  },
  {
   "cell_type": "markdown",
   "id": "d312bc54",
   "metadata": {},
   "source": [
    "get_weight_updates()을 반복적으로 호출하고 w1, w0을 업데이트하는 함수"
   ]
  },
  {
   "cell_type": "code",
   "execution_count": 9,
   "id": "9c147e9e",
   "metadata": {},
   "outputs": [],
   "source": [
    "def gradient_step(X,y,iters=10000):\n",
    "    #w0, w1 초기화\n",
    "    w0 = np.zeros((1,1))\n",
    "    w1 = np.zeros((1,1))\n",
    "    \n",
    "    # iter만큼 반복적으로 get_weight_updates()호출 -> w1,w0 업데이트\n",
    "    for i in range(iters):\n",
    "        w1_update, w0_update = get_weight_updates(w1,w0,X,y, learning_rate=0.01)\n",
    "        w1 = w1 - w1_update\n",
    "        w0 = w0 - w0_update\n",
    "    \n",
    "    return w1, w0"
   ]
  },
  {
   "cell_type": "code",
   "execution_count": 10,
   "id": "82732647",
   "metadata": {},
   "outputs": [
    {
     "data": {
      "text/plain": [
       "array([[0.]])"
      ]
     },
     "execution_count": 10,
     "metadata": {},
     "output_type": "execute_result"
    }
   ],
   "source": [
    "w1"
   ]
  },
  {
   "cell_type": "code",
   "execution_count": 11,
   "id": "3be77664",
   "metadata": {},
   "outputs": [
    {
     "data": {
      "text/plain": [
       "array([[0.]])"
      ]
     },
     "execution_count": 11,
     "metadata": {},
     "output_type": "execute_result"
    }
   ],
   "source": [
    "w1"
   ]
  },
  {
   "cell_type": "markdown",
   "id": "318abd38",
   "metadata": {},
   "source": [
    "예측 오차 비용을 계산하는 함수 생성 및 경사 하강법 수행"
   ]
  },
  {
   "cell_type": "code",
   "execution_count": 12,
   "id": "af0d3c9b",
   "metadata": {},
   "outputs": [
    {
     "name": "stdout",
     "output_type": "stream",
     "text": [
      "w1: 4.022 w0: 6.162\n",
      "Gradient_Descent_Total_Cost: 326.1824\n"
     ]
    }
   ],
   "source": [
    "def get_cost(y,y_pred):\n",
    "    N = len(y)\n",
    "    cost = np.sum(np.square(y-y_pred))/N\n",
    "    return cost\n",
    "\n",
    "w1,w0 = gradient_step(X,y,iters=1000)\n",
    "print(\"w1: {0:.3f} w0: {1:.3f}\".format(w1[0,0],w0[0,0]))\n",
    "y_pred = w1[0,0] * X * w0\n",
    "print('Gradient_Descent_Total_Cost: {0:.4f}'.format(get_cost(y,y_pred)))"
   ]
  },
  {
   "cell_type": "code",
   "execution_count": 18,
   "id": "836d5779",
   "metadata": {},
   "outputs": [
    {
     "data": {
      "text/plain": [
       "[<matplotlib.lines.Line2D at 0x18f18c112e0>]"
      ]
     },
     "execution_count": 18,
     "metadata": {},
     "output_type": "execute_result"
    },
    {
     "data": {
      "image/png": "[encoded data removed]",
      "text/plain": [
       "<Figure size 432x288 with 1 Axes>"
      ]
     },
     "metadata": {
      "needs_background": "light"
     },
     "output_type": "display_data"
    }
   ],
   "source": [
    "plt.scatter(X,y)\n",
    "plt.plot(X,y_pred)"
   ]
  },
  {
   "cell_type": "markdown",
   "id": "4ba3c6d9",
   "metadata": {},
   "source": [
    "미니배치 확률적 경사 하강법을 활용해 최적의 비용함수 도출"
   ]
  },
  {
   "cell_type": "code",
   "execution_count": 26,
   "id": "55efa12c",
   "metadata": {},
   "outputs": [],
   "source": [
    "def stochastic_gradient_descent_steps(X, y, batch_size=10, iters=1000):\n",
    "    w0 = np.zeros((1,1))\n",
    "    w1 = np.zeros((1,1))\n",
    "    prev_cost = 100000\n",
    "    iter_index =0\n",
    "    \n",
    "    for ind in range(iters):\n",
    "        np.random.seed(ind)\n",
    "        # 전체 X, y 데이터에서 랜덤하게 batch_size만큼 데이터 추출하여 sample_X, sample_y로 저장\n",
    "        stochastic_random_index = np.random.permutation(X.shape[0])\n",
    "        sample_X = X[stochastic_random_index[0:batch_size]]\n",
    "        sample_y = y[stochastic_random_index[0:batch_size]]\n",
    "        # 랜덤하게 batch_size만큼 추출된 데이터 기반으로 w1_update, w0_update 계산 후 업데이트\n",
    "        w1_update, w0_update = get_weight_updates(w1, w0, sample_X, sample_y, learning_rate=0.01)\n",
    "        w1 = w1 - w1_update\n",
    "        w0 = w0 - w0_update\n",
    "    \n",
    "    return w1, w0"
   ]
  },
  {
   "cell_type": "code",
   "execution_count": 27,
   "id": "2daf3178",
   "metadata": {},
   "outputs": [
    {
     "name": "stdout",
     "output_type": "stream",
     "text": [
      "w1:  4.028 w0:  4.028\n",
      "Stochastic_Gradient_Descent_Total_Cost:0.9937\n"
     ]
    }
   ],
   "source": [
    "w1,w0 = stochastic_gradient_descent_steps(X,y,iters=1000)\n",
    "print(\"w1: \",round(w1[0,0],3), \"w0: \",round(w1[0,0],3))\n",
    "y_pred = w1[0,0] * X +w0\n",
    "print(\"Stochastic_Gradient_Descent_Total_Cost:{0:.4f}\".format(get_cost(y,y_pred)))"
   ]
  },
  {
   "cell_type": "code",
   "execution_count": 28,
   "id": "03900ea4",
   "metadata": {},
   "outputs": [
    {
     "data": {
      "text/plain": [
       "[<matplotlib.lines.Line2D at 0x18f19408460>]"
      ]
     },
     "execution_count": 28,
     "metadata": {},
     "output_type": "execute_result"
    },
    {
     "data": {
      "image/png": "[encoded data removed]",
      "text/plain": [
       "<Figure size 432x288 with 1 Axes>"
      ]
     },
     "metadata": {
      "needs_background": "light"
     },
     "output_type": "display_data"
    }
   ],
   "source": [
    "plt.scatter(X,y)\n",
    "plt.plot(X,y_pred)"
   ]
  },
  {
   "cell_type": "markdown",
   "id": "72c74e60",
   "metadata": {},
   "source": [
    "## permutation과 shuffle\n",
    "\n",
    "- np.permutation은 원본은 변하지 않음\n",
    "- shuffle은 원본을 바꿔버림"
   ]
  },
  {
   "cell_type": "code",
   "execution_count": 35,
   "id": "6706e491",
   "metadata": {},
   "outputs": [
    {
     "name": "stdout",
     "output_type": "stream",
     "text": [
      "Permutation:  [4 3 5 6 2 1]\n",
      "원본 random :  [1, 2, 3, 4, 5, 6]\n",
      "shuffle:  [5, 4, 2, 6, 1, 3]\n"
     ]
    }
   ],
   "source": [
    "random = [1,2,3,4,5,6]\n",
    "permu = np.random.permutation(random)\n",
    "print(\"Permutation: \",permu)\n",
    "print(\"원본 random : \",random)\n",
    "np.random.shuffle(random)\n",
    "print(\"shuffle: \", random)"
   ]
  },
  {
   "cell_type": "code",
   "execution_count": null,
   "id": "9e1d07d6",
   "metadata": {},
   "outputs": [],
   "source": []
  }
 ],
 "metadata": {
  "kernelspec": {
   "display_name": "python3.8",
   "language": "python",
   "name": "py38"
  },
  "language_info": {
   "codemirror_mode": {
    "name": "ipython",
    "version": 3
   },
   "file_extension": ".py",
   "mimetype": "text/x-python",
   "name": "python",
   "nbconvert_exporter": "python",
   "pygments_lexer": "ipython3",
   "version": "3.8.13"
  }
 },
 "nbformat": 4,
 "nbformat_minor": 5
}
