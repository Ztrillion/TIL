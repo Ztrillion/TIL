{
 "cells": [
  {
   "cell_type": "markdown",
   "id": "fbb8afca",
   "metadata": {},
   "source": [
    "# LinearRegression\n",
    "\n",
    "- 예측값과 실제값의 RSS(Residual Sum of Square)를 최소화 헤 OLS(Ordinary Least Squares)추정 방식으로 구현한 클래스\n",
    "- 회귀계수인 W를 coef_속성에 저장"
   ]
  },
  {
   "cell_type": "code",
   "execution_count": null,
   "id": "0228d6ec",
   "metadata": {},
   "outputs": [],
   "source": [
    "class sklearn.linear_model.LinearRegression(fit_intercept=True, normalize=False, copy_X=True,n_jobs=1)"
   ]
  },
  {
   "cell_type": "markdown",
   "id": "4428f5ed",
   "metadata": {},
   "source": [
    "- fit_intercept : 불린 값으로 디폴트 = True, intercept(절편값)를 계산할 것인지 말지 지정, False지정 시 intercept 활용X, 0으로 지정\n",
    "- normalize : 디폴트 = False, True로 지정하면 회귀 수행 전 데이터 세트를 정규화"
   ]
  },
  {
   "cell_type": "markdown",
   "id": "f68e25b9",
   "metadata": {},
   "source": [
    "## OLS(Ordinary Least Squares)\n",
    "\n",
    "- OLS기반의 회귀 계수 계산은 입력 피처의 독립성에 영향을 크게받음\n",
    "- 피처간의 상관관계가 매우 높은 경우 분산이 매우 커져서 오류에 매우 민감해짐 -> 다중공선성(Multi collinearity)\n",
    "- 상관관계가 높은 피처가 많은 경우 독립적인 중요한 피처만 남기고 제거하거나 규제적용 및 PCA를 통한 차원축소 수행"
   ]
  },
  {
   "cell_type": "markdown",
   "id": "17abbb60",
   "metadata": {},
   "source": [
    "## 회귀 평가 지표\n",
    "\n",
    "- 실제값과 예측값의 차이값을 기반으로 한 지표가 중심\n",
    "\n",
    "#### MAE(Mean Absolute Error) : 실제값과 예측값의 차이를 절댓값으로 변환해 평균구함\n",
    "\n",
    "#### MSE(Mean Squared Error) : 실제값과 예측값의 차이를 제곱해 평균구함\n",
    "\n",
    "#### RMSE(Root Mean Squared Error) : MSE는 오류의 제곱을 구해 실제 오류 평균보다 커지므로 MSE에 루트를 씌움\n",
    "- Scikit-Learn은 RMSE를 제공하지 않아 MSE에 제곱근을 씌어 계산하는 함수 직접 생성\n",
    "\n",
    "#### R2 : 분산 기반 예측 성능 평가. 실제값의 분산대비 예측값의 분산 비율, 1에 가까울수록 예측정확도 높음"
   ]
  },
  {
   "cell_type": "markdown",
   "id": "e788b4d0",
   "metadata": {},
   "source": [
    "## SCORING 파라미터 적용 값\n",
    "- cross_val_score나 GridSearchCV에서 평가 시 사용되는 scoring파라미터 적용 값\n",
    "\n",
    "### 1. Mean Absolute Error\n",
    "\n",
    "#### Scoring 함수 적용 값 : 'neg_mean_absolute_error'"
   ]
  },
  {
   "cell_type": "code",
   "execution_count": 4,
   "id": "cea169db",
   "metadata": {},
   "outputs": [],
   "source": [
    "from sklearn.metrics import mean_absolute_error"
   ]
  },
  {
   "cell_type": "markdown",
   "id": "60c9389f",
   "metadata": {},
   "source": [
    "### 2. Mean Squared Error\n",
    "#### Scoring 함수 적용 값 : 'neg_mean_squared_error'"
   ]
  },
  {
   "cell_type": "code",
   "execution_count": 5,
   "id": "62537b5a",
   "metadata": {},
   "outputs": [],
   "source": [
    "from sklearn.metrics import mean_squared_error"
   ]
  },
  {
   "cell_type": "markdown",
   "id": "4dc6137e",
   "metadata": {},
   "source": [
    "### 3. R2(제곱)\n",
    "#### Scoring 함수 적용 값 : 'r2'"
   ]
  },
  {
   "cell_type": "code",
   "execution_count": 6,
   "id": "06b85a49",
   "metadata": {},
   "outputs": [],
   "source": [
    "from sklearn.metrics import r2_score"
   ]
  }
 ],
 "metadata": {
  "kernelspec": {
   "display_name": "python3.8",
   "language": "python",
   "name": "py38"
  },
  "language_info": {
   "codemirror_mode": {
    "name": "ipython",
    "version": 3
   },
   "file_extension": ".py",
   "mimetype": "text/x-python",
   "name": "python",
   "nbconvert_exporter": "python",
   "pygments_lexer": "ipython3",
   "version": "3.8.13"
  }
 },
 "nbformat": 4,
 "nbformat_minor": 5
}
