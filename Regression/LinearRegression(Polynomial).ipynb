{
 "cells": [
  {
   "cell_type": "markdown",
   "id": "39be05ab",
   "metadata": {},
   "source": [
    "# 다항(Polynomial)회귀\n",
    "\n",
    "- 독립변수가 단항식이 아닌 2차,3차 방식식과 같은 다항식으로 표현되는 것\n",
    "- 다항회귀는 **선형회귀**\n",
    "- 선형/비선형 나누는 기준 : 회귀계수가 선형인지 비선형인지에 따른 것\n"
   ]
  },
  {
   "cell_type": "markdown",
   "id": "e544c020",
   "metadata": {},
   "source": [
    "## 1차단항식 -> 2차다항식 변환"
   ]
  },
  {
   "cell_type": "code",
   "execution_count": 2,
   "id": "2502198d",
   "metadata": {},
   "outputs": [
    {
     "name": "stdout",
     "output_type": "stream",
     "text": [
      "1차 단항식 피처:\n",
      " [[0 1]\n",
      " [2 3]]\n",
      "변환된 2차 다항식 피처:\n",
      "  [[1. 0. 1. 0. 0. 1.]\n",
      " [1. 2. 3. 4. 6. 9.]]\n"
     ]
    }
   ],
   "source": [
    "from sklearn.preprocessing import PolynomialFeatures\n",
    "import numpy as np\n",
    "\n",
    "# 다항식으로 변환할 단항식 생성\n",
    "X = np.arange(4).reshape(2,2)\n",
    "print('1차 단항식 피처:\\n',X)\n",
    "\n",
    "#degree = 2 인 2차 다항식으로 변환하기 위해 Polynomial Features이용\n",
    "\n",
    "poly = PolynomialFeatures(degree=2)\n",
    "poly.fit(X)\n",
    "poly_ftr = poly.transform(X)\n",
    "print('변환된 2차 다항식 피처:\\n ',poly_ftr)"
   ]
  },
  {
   "cell_type": "markdown",
   "id": "00aaae9c",
   "metadata": {},
   "source": [
    "## 3차 다항 회귀 함수 임의설정 후 회귀계수 예측"
   ]
  },
  {
   "cell_type": "code",
   "execution_count": 3,
   "id": "831fb2f8",
   "metadata": {},
   "outputs": [
    {
     "name": "stdout",
     "output_type": "stream",
     "text": [
      "1차 다항식 계수 feature::\n",
      " [[0 1]\n",
      " [2 3]]\n",
      "3차 다항식 결정값::\n",
      " [  5 125]\n"
     ]
    }
   ],
   "source": [
    "def polynomial_func(X):\n",
    "    y = 1 + 2*X[:,0] + 3*X[:,0]**2 + 4*X[:,1]**3\n",
    "    return y\n",
    "\n",
    "X = np.arange(4).reshape(2,2)\n",
    "print('1차 다항식 계수 feature::\\n',X)\n",
    "y = polynomial_func(X)\n",
    "print('3차 다항식 결정값::\\n',y)"
   ]
  },
  {
   "cell_type": "markdown",
   "id": "8b688b67",
   "metadata": {},
   "source": [
    "## 일차 단항식 계수 -> 삼차 다항식 계수변환, 선형회귀 적용으로 다항회귀 구현"
   ]
  },
  {
   "cell_type": "code",
   "execution_count": 4,
   "id": "da08bb6b",
   "metadata": {},
   "outputs": [
    {
     "name": "stdout",
     "output_type": "stream",
     "text": [
      "3차 다항식 계수 feature:\n",
      " [[ 1.  0.  1.  0.  0.  1.  0.  0.  0.  1.]\n",
      " [ 1.  2.  3.  4.  6.  9.  8. 12. 18. 27.]]\n",
      "Polynomial 회귀 계수:  [0.   0.18 0.18 0.36 0.54 0.72 0.72 1.08 1.62 2.34]\n",
      "Polynomial 회귀 Shape :  (10,)\n"
     ]
    }
   ],
   "source": [
    "from sklearn.linear_model import LinearRegression\n",
    "poly_ftr = PolynomialFeatures(degree=3).fit_transform(X)\n",
    "print('3차 다항식 계수 feature:\\n', poly_ftr)\n",
    "\n",
    "model = LinearRegression()\n",
    "model.fit(poly_ftr,y)\n",
    "print('Polynomial 회귀 계수: ', np.round(model.coef_,2))\n",
    "print('Polynomial 회귀 Shape : ', model.coef_.shape)"
   ]
  },
  {
   "cell_type": "code",
   "execution_count": 9,
   "id": "04dc9afd",
   "metadata": {},
   "outputs": [
    {
     "ename": "KeyError",
     "evalue": "'linear_regression'",
     "output_type": "error",
     "traceback": [
      "\u001b[1;31m---------------------------------------------------------------------------\u001b[0m",
      "\u001b[1;31mKeyError\u001b[0m                                  Traceback (most recent call last)",
      "Input \u001b[1;32mIn [9]\u001b[0m, in \u001b[0;36m<cell line: 14>\u001b[1;34m()\u001b[0m\n\u001b[0;32m     12\u001b[0m y \u001b[38;5;241m=\u001b[39m polynomial_func(X)\n\u001b[0;32m     13\u001b[0m model \u001b[38;5;241m=\u001b[39m model\u001b[38;5;241m.\u001b[39mfit(X,y)\n\u001b[1;32m---> 14\u001b[0m \u001b[38;5;28mprint\u001b[39m(\u001b[38;5;124m'\u001b[39m\u001b[38;5;124mPolynomial 회귀 계수:\u001b[39m\u001b[38;5;130;01m\\n\u001b[39;00m\u001b[38;5;124m'\u001b[39m, np\u001b[38;5;241m.\u001b[39mround(\u001b[43mmodel\u001b[49m\u001b[38;5;241;43m.\u001b[39;49m\u001b[43mnamed_steps\u001b[49m\u001b[43m[\u001b[49m\u001b[38;5;124;43m'\u001b[39;49m\u001b[38;5;124;43mlinear_regression\u001b[39;49m\u001b[38;5;124;43m'\u001b[39;49m\u001b[43m]\u001b[49m\u001b[38;5;241m.\u001b[39mcoef_,\u001b[38;5;241m2\u001b[39m))\n",
      "\u001b[1;31mKeyError\u001b[0m: 'linear_regression'"
     ]
    }
   ],
   "source": [
    "# Pipeline 활용\n",
    "from sklearn.pipeline import Pipeline\n",
    "\n",
    "def Polynomial_func(X):\n",
    "    y = 1 + 2*X[:,0] + 3*X[:,0]**2 + 4*X[:,0]**3\n",
    "    return\n",
    "\n",
    "model = Pipeline([('poly', PolynomialFeatures(degree=3)),\n",
    "                 ('Linear',LinearRegression())])\n",
    "\n",
    "X = np.arange(4).reshape(2,2)\n",
    "y = polynomial_func(X)\n",
    "model = model.fit(X,y)\n",
    "print('Polynomial 회귀 계수:\\n', np.round(model.named_steps['linear_regression'].coef_,2))"
   ]
  },
  {
   "cell_type": "code",
   "execution_count": null,
   "id": "371dd549",
   "metadata": {},
   "outputs": [],
   "source": []
  }
 ],
 "metadata": {
  "kernelspec": {
   "display_name": "Python 3 (ipykernel)",
   "language": "python",
   "name": "python3"
  },
  "language_info": {
   "codemirror_mode": {
    "name": "ipython",
    "version": 3
   },
   "file_extension": ".py",
   "mimetype": "text/x-python",
   "name": "python",
   "nbconvert_exporter": "python",
   "pygments_lexer": "ipython3",
   "version": "3.9.12"
  }
 },
 "nbformat": 4,
 "nbformat_minor": 5
}
