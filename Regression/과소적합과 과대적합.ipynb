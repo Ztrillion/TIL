{
 "cells": [
  {
   "cell_type": "markdown",
   "id": "070f0aa2",
   "metadata": {},
   "source": [
    "# 다항회귀로 과소적합, 과대적합 이해\n",
    "\n",
    "- 1. X와 y가 잡음(Noise)이 포함된 다항식의 Coisine 그래프 관계를 가지도록 만듬\n",
    "- 2. 다항회귀 차수를 변환하면서 그에 따른 회귀예측 곡선과 예측 정확도 비교"
   ]
  },
  {
   "cell_type": "code",
   "execution_count": null,
   "id": "6337a763",
   "metadata": {},
   "outputs": [],
   "source": [
    "import numpy as np\n"
   ]
  }
 ],
 "metadata": {
  "kernelspec": {
   "display_name": "Python 3 (ipykernel)",
   "language": "python",
   "name": "python3"
  },
  "language_info": {
   "codemirror_mode": {
    "name": "ipython",
    "version": 3
   },
   "file_extension": ".py",
   "mimetype": "text/x-python",
   "name": "python",
   "nbconvert_exporter": "python",
   "pygments_lexer": "ipython3",
   "version": "3.8.13"
  }
 },
 "nbformat": 4,
 "nbformat_minor": 5
}
