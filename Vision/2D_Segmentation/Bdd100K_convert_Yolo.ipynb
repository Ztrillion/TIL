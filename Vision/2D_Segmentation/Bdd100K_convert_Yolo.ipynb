{
 "cells": [
  {
   "cell_type": "code",
   "execution_count": null,
   "metadata": {},
   "outputs": [],
   "source": [
    "import os,json\n",
    "from tqdm import tqdm"
   ]
  },
  {
   "cell_type": "markdown",
   "metadata": {},
   "source": [
    "# train, val 1번씩 실행"
   ]
  },
  {
   "cell_type": "code",
   "execution_count": 21,
   "metadata": {},
   "outputs": [
    {
     "name": "stderr",
     "output_type": "stream",
     "text": [
      "100%|██████████| 10000/10000 [00:05<00:00, 1881.99it/s]\n"
     ]
    },
    {
     "data": {
      "text/plain": [
       "(['C:/Users/combus-rnd/yolov5/Instance_segData/valid/labels\\\\b1c66a42-6f7d68ca.txt',\n",
       "  'C:/Users/combus-rnd/yolov5/Instance_segData/valid/labels\\\\b1c81faa-3df17267.txt',\n",
       "  'C:/Users/combus-rnd/yolov5/Instance_segData/valid/labels\\\\b1c81faa-c80764c5.txt',\n",
       "  'C:/Users/combus-rnd/yolov5/Instance_segData/valid/labels\\\\b1c9c847-3bda4659.txt',\n",
       "  'C:/Users/combus-rnd/yolov5/Instance_segData/valid/labels\\\\b1ca2e5d-84cf9134.txt'],\n",
       " 9546)"
      ]
     },
     "execution_count": 21,
     "metadata": {},
     "output_type": "execute_result"
    }
   ],
   "source": [
    "class_list = ['alternative', 'direct']\n",
    "\n",
    "image_width = 1280\n",
    "image_height = 720\n",
    "\n",
    "output_dir_segmentation = 'C:/Users/combus-rnd/yolov5/Instance_segData/valid/labels'\n",
    "os.makedirs(output_dir_segmentation, exist_ok=True)\n",
    "\n",
    "with open('D:/bdd100k/labels/drivable/polygons/drivable_val.json', 'r') as f:\n",
    "    data = json.load(f)\n",
    "category_to_index = {category: index for index, category in enumerate(class_list)}\n",
    "\n",
    "output_files_segmentation_example_format = []\n",
    "\n",
    "for item in tqdm(data):\n",
    "    image_name = item.get('name', '')\n",
    "    labels = item.get('labels', None)  \n",
    "    \n",
    "    if labels is None:\n",
    "        continue  \n",
    "    \n",
    "    output_file_path_segmentation = os.path.join(output_dir_segmentation, f\"{image_name.split('.')[0]}.txt\")\n",
    "    \n",
    "    \n",
    "    for label in labels:\n",
    "        category = label.get('category', '')\n",
    "        class_index = category_to_index.get(category, -1)  \n",
    "        \n",
    "        if class_index == 0 or class_index == 1:\n",
    "            poly2d = label.get('poly2d', [])\n",
    "            with open(output_file_path_segmentation, 'w') as f:\n",
    "                  for poly in poly2d:\n",
    "                        vertices = poly.get('vertices', [])\n",
    "                        if not vertices:\n",
    "                              continue\n",
    "                        \n",
    "                        f.write(f\"{class_index} \")\n",
    "                        for ver in range(len(vertices)):\n",
    "                              x,y = vertices[ver]\n",
    "                              \n",
    "                              x_nomarlized =  x / image_width\n",
    "                              y_nomarlized = y / image_height\n",
    "                              if float(x_nomarlized) > 1.000 :\n",
    "                                    x_nomarlized = 1.000\n",
    "                              elif float(y_nomarlized) > 1.000 :\n",
    "                                    y_nomarlized = 1.000\n",
    "                              f.write(f\"{x_nomarlized:.3f} {y_nomarlized:.3f} \")\n",
    "                        f.write(\"\\n\")\n",
    "\n",
    "                        \n",
    "    output_files_segmentation_example_format.append(output_file_path_segmentation)\n",
    "\n",
    "output_files_segmentation_example_format[:5], len(output_files_segmentation_example_format)  "
   ]
  },
  {
   "cell_type": "markdown",
   "metadata": {},
   "source": [
    "# 변경된 annotation 파일명과 이미지 파일 mapping 후 move"
   ]
  },
  {
   "cell_type": "code",
   "execution_count": 24,
   "metadata": {},
   "outputs": [
    {
     "name": "stderr",
     "output_type": "stream",
     "text": [
      "100%|██████████| 66921/66921 [02:16<00:00, 490.18it/s]\n"
     ]
    }
   ],
   "source": [
    "\n",
    "import os\n",
    "import shutil\n",
    "from tqdm import tqdm\n",
    "label_dir = 'C:/Users/combus-rnd/yolov5/Instance_segData/train/labels'\n",
    "image_dir = 'D:/bdd100k/train/images'\n",
    "target_dir = 'C:/Users/combus-rnd/yolov5/Instance_segData/train/images'\n",
    "label_files = os.listdir(label_dir)\n",
    "\n",
    "\n",
    "for label_file in tqdm(label_files):\n",
    "    label_to_image = label_file.replace('.txt', '.jpg')\n",
    "    try :\n",
    "        shutil.move(image_dir+'/'+label_to_image,target_dir+'/'+label_to_image)\n",
    "    except : pass"
   ]
  },
  {
   "cell_type": "code",
   "execution_count": null,
   "metadata": {},
   "outputs": [],
   "source": []
  }
 ],
 "metadata": {
  "kernelspec": {
   "display_name": "py39",
   "language": "python",
   "name": "python3"
  },
  "language_info": {
   "codemirror_mode": {
    "name": "ipython",
    "version": 3
   },
   "file_extension": ".py",
   "mimetype": "text/x-python",
   "name": "python",
   "nbconvert_exporter": "python",
   "pygments_lexer": "ipython3",
   "version": "3.9.18"
  },
  "orig_nbformat": 4
 },
 "nbformat": 4,
 "nbformat_minor": 2
}
