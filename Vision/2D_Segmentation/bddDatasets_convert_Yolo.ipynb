{
 "cells": [
  {
   "cell_type": "code",
   "execution_count": 1,
   "metadata": {},
   "outputs": [],
   "source": [
    "import os\n",
    "import json\n",
    "import pandas as pd\n",
    "import numpy as np\n",
    "from collections import Counter"
   ]
  },
  {
   "cell_type": "code",
   "execution_count": 14,
   "metadata": {},
   "outputs": [],
   "source": [
    "f = open('D:/bdd100k/labels/lane/polygons/lane_train.json')\n",
    "data_labels_train = json.load(f)\n",
    "f.close()"
   ]
  },
  {
   "cell_type": "code",
   "execution_count": 2,
   "metadata": {},
   "outputs": [],
   "source": [
    "f = open('D:/bdd100k/labels/lane/polygons/lane_val.json')\n",
    "data_labels_train = json.load(f)\n",
    "f.close()"
   ]
  },
  {
   "cell_type": "code",
   "execution_count": 13,
   "metadata": {},
   "outputs": [
    {
     "data": {
      "text/plain": [
       "{'name': '0cee1da1-a0e4360e.jpg',\n",
       " 'labels': [{'id': '0',\n",
       "   'attributes': {'laneDirection': 'parallel',\n",
       "    'laneStyle': 'solid',\n",
       "    'laneTypes': 'single white'},\n",
       "   'category': 'single white',\n",
       "   'poly2d': [{'vertices': [[471.787876, 485.2515], [319.023515, 641.01124]],\n",
       "     'types': 'LL',\n",
       "     'closed': False}]},\n",
       "  {'id': '1',\n",
       "   'attributes': {'laneDirection': 'parallel',\n",
       "    'laneStyle': 'solid',\n",
       "    'laneTypes': 'single white'},\n",
       "   'category': 'single white',\n",
       "   'poly2d': [{'vertices': [[476.280946, 509.214537], [369.944969, 641.01124]],\n",
       "     'types': 'LL',\n",
       "     'closed': False}]},\n",
       "  {'id': '2',\n",
       "   'attributes': {'laneDirection': 'parallel',\n",
       "    'laneStyle': 'dashed',\n",
       "    'laneTypes': 'single white'},\n",
       "   'category': 'single white',\n",
       "   'poly2d': [{'vertices': [[718.906695, 473.269981], [924.0902, 644.00662]],\n",
       "     'types': 'LL',\n",
       "     'closed': False}]}]}"
      ]
     },
     "execution_count": 13,
     "metadata": {},
     "output_type": "execute_result"
    }
   ],
   "source": [
    "data_labels_train[5000]"
   ]
  },
  {
   "cell_type": "code",
   "execution_count": 25,
   "metadata": {},
   "outputs": [
    {
     "name": "stderr",
     "output_type": "stream",
     "text": [
      "100%|██████████| 10000/10000 [00:02<00:00, 3795.24it/s]\n"
     ]
    },
    {
     "data": {
      "text/plain": [
       "(['D:/bdd100k/yolo_labels/valid/labels/b1c66a42-6f7d68ca.txt',\n",
       "  'D:/bdd100k/yolo_labels/valid/labels/b1c81faa-3df17267.txt',\n",
       "  'D:/bdd100k/yolo_labels/valid/labels/b1c81faa-c80764c5.txt',\n",
       "  'D:/bdd100k/yolo_labels/valid/labels/b1c9c847-3bda4659.txt',\n",
       "  'D:/bdd100k/yolo_labels/valid/labels/b1ca2e5d-84cf9134.txt'],\n",
       " 9526)"
      ]
     },
     "execution_count": 25,
     "metadata": {},
     "output_type": "execute_result"
    }
   ],
   "source": [
    "import json\n",
    "import os\n",
    "from tqdm import tqdm\n",
    "class_list = ['single white', 'road curb', 'crosswalk', 'double yellow', 'single yellow', 'double white', 'single other', 'double other']\n",
    "\n",
    "image_width = 1280\n",
    "image_height = 720\n",
    "\n",
    "output_dir_segmentation = 'D:/bdd100k/yolo_labels/valid/labels/'\n",
    "os.makedirs(output_dir_segmentation, exist_ok=True)\n",
    "\n",
    "with open('D:/bdd100k/labels/lane/polygons/lane_val.json', 'r') as f:\n",
    "    data = json.load(f)\n",
    "category_to_index = {category: index for index, category in enumerate(class_list)}\n",
    "\n",
    "output_files_segmentation_example_format = []\n",
    "\n",
    "for item in tqdm(data):\n",
    "    image_name = item.get('name', '')\n",
    "    labels = item.get('labels', None)  \n",
    "    \n",
    "    if labels is None:\n",
    "        continue  \n",
    "    \n",
    "    output_file_path_segmentation = os.path.join(output_dir_segmentation, f\"{image_name.split('.')[0]}.txt\")\n",
    "    \n",
    "    with open(output_file_path_segmentation, 'w') as f:\n",
    "        for label in labels:\n",
    "            category = label.get('category', '')\n",
    "            class_index = category_to_index.get(category, -1)  \n",
    "            if class_index == -1:\n",
    "                continue  \n",
    "            \n",
    "            poly2d = label.get('poly2d', [])\n",
    "            for poly in poly2d:\n",
    "                vertices = poly.get('vertices', [])\n",
    "                if not vertices:\n",
    "                    continue\n",
    "                \n",
    "                f.write(f\"{class_index} \")\n",
    "                for x, y in vertices:\n",
    "                    f.write(f\"{(x / image_width):.3f} {(y / image_height):.3f} \")\n",
    "                f.write(\"\\n\")\n",
    "\n",
    "                        \n",
    "    output_files_segmentation_example_format.append(output_file_path_segmentation)\n",
    "\n",
    "output_files_segmentation_example_format[:5], len(output_files_segmentation_example_format)  "
   ]
  },
  {
   "cell_type": "code",
   "execution_count": 7,
   "metadata": {},
   "outputs": [
    {
     "name": "stderr",
     "output_type": "stream",
     "text": [
      "100%|██████████| 9526/9526 [00:02<00:00, 3409.87it/s]\n"
     ]
    }
   ],
   "source": [
    "\n",
    "import os\n",
    "import shutil\n",
    "from tqdm import tqdm\n",
    "label_dir = 'D:/Instance_segData/valid/labels'\n",
    "image_dir = 'D:/bdd100k/val'\n",
    "target_dir = 'D:/Instance_segData/valid/images'\n",
    "label_files = os.listdir(label_dir)\n",
    "\n",
    "for label_file in tqdm(label_files):\n",
    "    label_to_image = label_file.replace('.txt', '.jpg')\n",
    "    \n",
    "    shutil.move(image_dir+'/'+label_to_image,target_dir+'/'+label_to_image)\n"
   ]
  }
 ],
 "metadata": {
  "kernelspec": {
   "display_name": "py39",
   "language": "python",
   "name": "python3"
  },
  "language_info": {
   "codemirror_mode": {
    "name": "ipython",
    "version": 3
   },
   "file_extension": ".py",
   "mimetype": "text/x-python",
   "name": "python",
   "nbconvert_exporter": "python",
   "pygments_lexer": "ipython3",
   "version": "3.9.18"
  },
  "orig_nbformat": 4
 },
 "nbformat": 4,
 "nbformat_minor": 2
}
