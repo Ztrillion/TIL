{
 "cells": [
  {
   "cell_type": "code",
   "execution_count": 17,
   "metadata": {},
   "outputs": [
    {
     "name": "stdout",
     "output_type": "stream",
     "text": [
      "[2023/08/18 15:36:41] ppocr DEBUG: Namespace(alpha=1.0, benchmark=False, beta=1.0, cls_batch_num=6, cls_image_shape='3, 48, 192', cls_model_dir='C:\\\\Users\\\\combus-rnd/.paddleocr/whl\\\\cls\\\\ch_ppocr_mobile_v2.0_cls_infer', cls_thresh=0.9, cpu_threads=10, crop_res_save_dir='./output', det=True, det_algorithm='DB', det_box_type='quad', det_db_box_thresh=0.6, det_db_score_mode='fast', det_db_thresh=0.3, det_db_unclip_ratio=1.5, det_east_cover_thresh=0.1, det_east_nms_thresh=0.2, det_east_score_thresh=0.8, det_limit_side_len=960, det_limit_type='max', det_model_dir='C:\\\\Users\\\\combus-rnd/.paddleocr/whl\\\\det\\\\ml\\\\Multilingual_PP-OCRv3_det_infer', det_pse_box_thresh=0.85, det_pse_min_area=16, det_pse_scale=1, det_pse_thresh=0, det_sast_nms_thresh=0.2, det_sast_score_thresh=0.5, draw_img_save_dir='./inference_results', drop_score=0.5, e2e_algorithm='PGNet', e2e_char_dict_path='./ppocr/utils/ic15_dict.txt', e2e_limit_side_len=768, e2e_limit_type='max', e2e_model_dir=None, e2e_pgnet_mode='fast', e2e_pgnet_score_thresh=0.5, e2e_pgnet_valid_set='totaltext', enable_mkldnn=False, fourier_degree=5, gpu_id=0, gpu_mem=500, help='==SUPPRESS==', image_dir=None, image_orientation=False, ir_optim=True, kie_algorithm='LayoutXLM', label_list=['0', '180'], lang='korean', layout=True, layout_dict_path=None, layout_model_dir=None, layout_nms_threshold=0.5, layout_score_threshold=0.5, max_batch_size=10, max_text_length=25, merge_no_span_structure=True, min_subgraph_size=15, mode='structure', ocr=True, ocr_order_method=None, ocr_version='PP-OCRv4', output='./output', page_num=0, precision='fp32', process_id=0, re_model_dir=None, rec=True, rec_algorithm='SVTR_LCNet', rec_batch_num=6, rec_char_dict_path='c:\\\\Users\\\\combus-rnd\\\\anaconda3\\\\envs\\\\paddle\\\\lib\\\\site-packages\\\\paddleocr\\\\ppocr\\\\utils\\\\dict\\\\korean_dict.txt', rec_image_inverse=True, rec_image_shape='3, 48, 320', rec_model_dir='C:\\\\Users\\\\combus-rnd/.paddleocr/whl\\\\rec\\\\korean\\\\korean_PP-OCRv4_rec_infer', recovery=False, return_word_box=False, save_crop_res=False, save_log_path='./log_output/', scales=[8, 16, 32], ser_dict_path='../train_data/XFUND/class_list_xfun.txt', ser_model_dir=None, show_log=True, sr_batch_num=1, sr_image_shape='3, 32, 128', sr_model_dir=None, structure_version='PP-StructureV2', table=True, table_algorithm='TableAttn', table_char_dict_path=None, table_max_len=488, table_model_dir=None, total_process_num=1, type='ocr', use_angle_cls=True, use_dilation=False, use_gpu=True, use_mp=False, use_npu=False, use_onnx=False, use_pdf2docx_api=False, use_pdserving=False, use_space_char=True, use_tensorrt=False, use_visual_backbone=True, use_xpu=False, vis_font_path='./doc/fonts/simfang.ttf', warmup=False)\n",
      "[2023/08/18 15:36:52] ppocr DEBUG: dt_boxes num : 2, elapse : 0.031996965408325195\n",
      "[2023/08/18 15:36:52] ppocr DEBUG: rec_res num  : 2, elapse : 0.030016660690307617\n",
      "[[[1166.0, 295.0], [1421.0, 281.0], [1424.0, 326.0], [1169.0, 341.0]], ('판교역로146번길', 0.997873067855835)]\n",
      "[[[1170.0, 339.0], [1419.0, 322.0], [1422.0, 359.0], [1173.0, 376.0]], ('Pangyoyeok-ro 146beon-gi', 0.9625627398490906)]\n"
     ]
    }
   ],
   "source": [
    "from paddleocr import PaddleOCR,draw_ocr\n",
    "ocr = PaddleOCR(use_angle_cls=True, lang='korean')\n",
    "img_path = './test_images/1.jpg'\n",
    "result = ocr.ocr(img_path, cls=False)\n",
    "for idx in range(len(result)):\n",
    "    res = result[idx]\n",
    "    for line in res:\n",
    "        print(line)\n",
    "\n",
    "\n",
    "# draw result\n",
    "from PIL import Image\n",
    "result = result[0]\n",
    "image = Image.open(img_path).convert('RGB')\n",
    "boxes = [line[0] for line in result]\n",
    "txts = [line[1][0] for line in result]\n",
    "scores = [line[1][1] for line in result]\n",
    "im_show = draw_ocr(image, boxes, txts, scores, font_path='../PaddleOCR/StyleText/fonts/ko_standard.ttf')\n",
    "im_show = Image.fromarray(im_show)\n",
    "im_show.save('1_re.jpg')"
   ]
  },
  {
   "cell_type": "code",
   "execution_count": 16,
   "metadata": {},
   "outputs": [
    {
     "ename": "AttributeError",
     "evalue": "'PaddleOCR' object has no attribute 'cls_image_shape'",
     "output_type": "error",
     "traceback": [
      "\u001b[1;31m---------------------------------------------------------------------------\u001b[0m",
      "\u001b[1;31mAttributeError\u001b[0m                            Traceback (most recent call last)",
      "Cell \u001b[1;32mIn[16], line 1\u001b[0m\n\u001b[1;32m----> 1\u001b[0m ocr\u001b[39m.\u001b[39;49mcls_image_shape\n",
      "\u001b[1;31mAttributeError\u001b[0m: 'PaddleOCR' object has no attribute 'cls_image_shape'"
     ]
    }
   ],
   "source": []
  },
  {
   "cell_type": "code",
   "execution_count": 13,
   "metadata": {},
   "outputs": [
    {
     "name": "stdout",
     "output_type": "stream",
     "text": [
      "Pangyoyeok-ro 146beon-gi\n"
     ]
    }
   ],
   "source": [
    "for i in result :\n",
    "      print(i[1][0])"
   ]
  },
  {
   "cell_type": "code",
   "execution_count": 46,
   "metadata": {},
   "outputs": [
    {
     "name": "stdout",
     "output_type": "stream",
     "text": [
      "[2023/08/14 17:47:17] ppocr DEBUG: Namespace(alpha=1.0, benchmark=False, beta=1.0, cls_batch_num=6, cls_image_shape='3, 48, 192', cls_model_dir=None, cls_thresh=0.9, cpu_threads=10, crop_res_save_dir='./output', det=True, det_algorithm='DB', det_box_type='quad', det_db_box_thresh=0.6, det_db_score_mode='fast', det_db_thresh=0.3, det_db_unclip_ratio=1.5, det_east_cover_thresh=0.1, det_east_nms_thresh=0.2, det_east_score_thresh=0.8, det_limit_side_len=960, det_limit_type='max', det_model_dir='C:\\\\Users\\\\combus-rnd/.paddleocr/whl\\\\det\\\\ch\\\\ch_PP-OCRv4_det_infer', det_pse_box_thresh=0.85, det_pse_min_area=16, det_pse_scale=1, det_pse_thresh=0, det_sast_nms_thresh=0.2, det_sast_score_thresh=0.5, draw_img_save_dir='./inference_results', drop_score=0.5, e2e_algorithm='PGNet', e2e_char_dict_path='./ppocr/utils/ic15_dict.txt', e2e_limit_side_len=768, e2e_limit_type='max', e2e_model_dir=None, e2e_pgnet_mode='fast', e2e_pgnet_score_thresh=0.5, e2e_pgnet_valid_set='totaltext', enable_mkldnn=False, fourier_degree=5, gpu_id=0, gpu_mem=500, help='==SUPPRESS==', image_dir=None, image_orientation=True, ir_optim=True, kie_algorithm='LayoutXLM', label_list=['0', '180'], lang='ch', layout=True, layout_dict_path='c:\\\\Users\\\\combus-rnd\\\\PaddleOCR\\\\ppocr\\\\utils\\\\dict\\\\layout_dict\\\\layout_cdla_dict.txt', layout_model_dir='C:\\\\Users\\\\combus-rnd/.paddleocr/whl\\\\layout\\\\picodet_lcnet_x1_0_fgd_layout_cdla_infer', layout_nms_threshold=0.5, layout_score_threshold=0.5, max_batch_size=10, max_text_length=25, merge_no_span_structure=True, min_subgraph_size=15, mode='structure', ocr=True, ocr_order_method=None, ocr_version='PP-OCRv4', output='./output', page_num=0, precision='fp32', process_id=0, re_model_dir=None, rec=True, rec_algorithm='SVTR_LCNet', rec_batch_num=6, rec_char_dict_path='c:\\\\Users\\\\combus-rnd\\\\PaddleOCR\\\\ppocr\\\\utils\\\\ppocr_keys_v1.txt', rec_image_inverse=True, rec_image_shape='3, 48, 320', rec_model_dir='C:\\\\Users\\\\combus-rnd/.paddleocr/whl\\\\rec\\\\ch\\\\ch_PP-OCRv4_rec_infer', recovery=False, save_crop_res=False, save_log_path='./log_output/', scales=[8, 16, 32], ser_dict_path='../train_data/XFUND/class_list_xfun.txt', ser_model_dir=None, show_log=True, sr_batch_num=1, sr_image_shape='3, 32, 128', sr_model_dir=None, structure_version='PP-StructureV2', table=True, table_algorithm='TableAttn', table_char_dict_path='c:\\\\Users\\\\combus-rnd\\\\PaddleOCR\\\\ppocr\\\\utils\\\\dict\\\\table_structure_dict_ch.txt', table_max_len=488, table_model_dir='C:\\\\Users\\\\combus-rnd/.paddleocr/whl\\\\table\\\\ch_ppstructure_mobile_v2.0_SLANet_infer', total_process_num=1, type='ocr', use_angle_cls=False, use_dilation=False, use_gpu=True, use_mp=False, use_npu=False, use_onnx=False, use_pdf2docx_api=False, use_pdserving=False, use_space_char=True, use_tensorrt=False, use_visual_backbone=True, use_xpu=False, vis_font_path='./doc/fonts/simfang.ttf', warmup=False)\n",
      "[2023/08/14 17:47:28] ppocr DEBUG: dt_boxes num : 9, elapse : 0.0370020866394043\n",
      "[2023/08/14 17:47:28] ppocr DEBUG: rec_res num  : 9, elapse : 0.10399985313415527\n",
      "[2023/08/14 17:47:28] ppocr DEBUG: dt_boxes num : 17, elapse : 0.0319974422454834\n",
      "[2023/08/14 17:47:28] ppocr DEBUG: rec_res num  : 17, elapse : 0.26900243759155273\n",
      "[2023/08/14 17:47:29] ppocr DEBUG: dt_boxes num : 3, elapse : 0.1358804702758789\n",
      "[2023/08/14 17:47:29] ppocr DEBUG: rec_res num  : 3, elapse : 0.019001007080078125\n",
      "[2023/08/14 17:47:29] ppocr DEBUG: dt_boxes num : 5, elapse : 0.020003318786621094\n",
      "[2023/08/14 17:47:29] ppocr DEBUG: rec_res num  : 5, elapse : 0.03599882125854492\n",
      "[2023/08/14 17:47:29] ppocr DEBUG: dt_boxes num : 2, elapse : 0.02600383758544922\n",
      "[2023/08/14 17:47:29] ppocr DEBUG: rec_res num  : 2, elapse : 0.03600049018859863\n",
      "[2023/08/14 17:47:29] ppocr DEBUG: dt_boxes num : 0, elapse : 0.016997814178466797\n",
      "[2023/08/14 17:47:29] ppocr DEBUG: rec_res num  : 0, elapse : 0.0\n",
      "[2023/08/14 17:47:29] ppocr DEBUG: dt_boxes num : 0, elapse : 0.024014949798583984\n",
      "[2023/08/14 17:47:29] ppocr DEBUG: rec_res num  : 0, elapse : 0.0\n",
      "{'type': 'text', 'bbox': [78, 400, 701, 548], 'res': [{'text': 'tecennstcl', 'confidence': 0.5634973645210266, 'text_region': [[84.0, 405.0], [149.0, 405.0], [149.0, 411.0], [84.0, 411.0]]}, {'text': 'orle', 'confidence': 0.47297900915145874, 'text_region': [[531.0, 405.0], [571.0, 405.0], [571.0, 411.0], [531.0, 411.0]]}, {'text': 'volution,forwhichseveralapproacheshavebeenproposed.1', 'confidence': 0.9759630560874939, 'text_region': [[81.0, 420.0], [487.0, 421.0], [487.0, 434.0], [81.0, 433.0]]}, {'text': 'Inthispaper;inspiredbydiscrete', 'confidence': 0.9782648086547852, 'text_region': [[480.0, 421.0], [699.0, 420.0], [699.0, 433.0], [480.0, 434.0]]}, {'text': 'convolutioninimageprocessing.weprovide', 'confidence': 0.9921022653579712, 'text_region': [[80.0, 439.0], [357.0, 441.0], [357.0, 456.0], [80.0, 454.0]]}, {'text': 'andanalyzeanumberofpoin', 'confidence': 0.9871839284896851, 'text_region': [[504.0, 441.0], [698.0, 441.0], [698.0, 453.0], [504.0, 453.0]]}, {'text': 'wedefineapointsamplingstrategyforconvolutionthatisboth', 'confidence': 0.9937572479248047, 'text_region': [[81.0, 498.0], [493.0, 498.0], [493.0, 511.0], [81.0, 511.0]]}, {'text': 'effectiveandfast.Finally,using', 'confidence': 0.9659502506256104, 'text_region': [[488.0, 495.0], [700.0, 497.0], [700.0, 513.0], [488.0, 511.0]]}, {'text': 'ourconvolutionandsamplingstrategy,weshowcompetitiveresultsonclassificationandsemantic', 'confidence': 0.9829786419868469, 'text_region': [[80.0, 516.0], [699.0, 516.0], [699.0, 531.0], [80.0, 531.0]]}], 'img_idx': 0}\n",
      "{'type': 'text', 'bbox': [28, 602, 732, 967], 'res': [{'text': 'Convolutional Neural Networks (CNNs) have been a breakthrough in machine learning for image process-', 'confidence': 0.9779636859893799, 'text_region': [[48.0, 602.0], [731.0, 604.0], [731.0, 622.0], [48.0, 620.0]]}, {'text': 'ing [7, 19]. The discrete formulation of convolution allows a very efficient processing of grid-structured data', 'confidence': 0.9846895337104797, 'text_region': [[49.0, 622.0], [731.0, 622.0], [731.0, 639.0], [49.0, 639.0]]}, {'text': 'such as images in 2D or videos in 3D. Yet a number of tasks require processing unstructured data such as', 'confidence': 0.9767868518829346, 'text_region': [[48.0, 639.0], [731.0, 640.0], [731.0, 659.0], [48.0, 658.0]]}, {'text': 'point clouds, meshes or graphs, with application domains such as autonomous driving, robotics or urban', 'confidence': 0.9869551658630371, 'text_region': [[49.0, 661.0], [731.0, 661.0], [731.0, 679.0], [49.0, 679.0]]}, {'text': 'modeling. However discrete convolution does not directly apply to point clouds as 3D points are not usually', 'confidence': 0.9783743619918823, 'text_region': [[47.0, 678.0], [731.0, 679.0], [731.0, 699.0], [47.0, 698.0]]}, {'text': 'sampledonagrid.', 'confidence': 0.9916447997093201, 'text_region': [[50.0, 701.0], [167.0, 701.0], [167.0, 715.0], [50.0, 715.0]]}, {'text': 'The most straightforward workaround is to voxelize the 3D space to use discrete CNNs [31]. However, as 3D', 'confidence': 0.9772716760635376, 'text_region': [[48.0, 724.0], [731.0, 725.0], [731.0, 743.0], [48.0, 742.0]]}, {'text': 'points are usually sampled on a surface, most of the voxels are empty. For efficient large-scale processing, a', 'confidence': 0.9891754388809204, 'text_region': [[46.0, 743.0], [731.0, 744.0], [731.0, 765.0], [46.0, 764.0]]}, {'text': 'sparse formulation is thus required [37, 60]. Other deep learning approaches generalize convolution to less', 'confidence': 0.9768304824829102, 'text_region': [[48.0, 762.0], [731.0, 763.0], [731.0, 785.0], [48.0, 783.0]]}, {'text': 'structured data, such as graphs or meshes [5,41], but applying them to point clouds requires addressing the', 'confidence': 0.9904542565345764, 'text_region': [[49.0, 783.0], [730.0, 783.0], [730.0, 801.0], [49.0, 801.0]]}, {'text': 'issue of sensiblegraph constructionfirst.', 'confidence': 0.9701863527297974, 'text_region': [[51.0, 804.0], [310.0, 804.0], [310.0, 819.0], [51.0, 819.0]]}, {'text': 'Deep-learning techniques that directly process raw data have been developed to overcome the problem of', 'confidence': 0.9894612431526184, 'text_region': [[50.0, 829.0], [731.0, 829.0], [731.0, 847.0], [50.0, 847.0]]}, {'text': 'point cloud pre-processing [33,50]. Just as for structured data, such networks are usually designed as a', 'confidence': 0.9844386577606201, 'text_region': [[50.0, 849.0], [731.0, 849.0], [731.0, 866.0], [50.0, 866.0]]}, {'text': 'stack of layers and are optimized using stochastic gradient descent and back-propagation. Key issues when', 'confidence': 0.9812647700309753, 'text_region': [[48.0, 865.0], [731.0, 866.0], [731.0, 887.0], [48.0, 886.0]]}, {'text': 'designing these networks include speed and memory efficiency.', 'confidence': 0.9764224886894226, 'text_region': [[49.0, 885.0], [456.0, 887.0], [456.0, 906.0], [49.0, 904.0]]}, {'text': 'In this context, we propose a new convolution method for point cloud processing. It is a mixed discrete-', 'confidence': 0.98380446434021, 'text_region': [[48.0, 913.0], [730.0, 913.0], [730.0, 934.0], [48.0, 934.0]]}, {'text': 'continuous formulation that disentangles the geometry of the convolution kernel and the spatial support', 'confidence': 0.9805220365524292, 'text_region': [[50.0, 933.0], [731.0, 933.0], [731.0, 950.0], [50.0, 950.0]]}], 'img_idx': 0}\n",
      "{'type': 'text', 'bbox': [115, 247, 395, 280], 'res': [{'text': 'Aexand', 'confidence': 0.8936729431152344, 'text_region': [[119.0, 251.0], [173.0, 251.0], [173.0, 258.0], [119.0, 258.0]]}, {'text': 'ouch', 'confidence': 0.8975369930267334, 'text_region': [[202.0, 249.0], [237.0, 249.0], [237.0, 259.0], [202.0, 259.0]]}, {'text': 'Paris', 'confidence': 0.9926646947860718, 'text_region': [[361.0, 269.0], [393.0, 269.0], [393.0, 279.0], [361.0, 279.0]]}], 'img_idx': 0}\n",
      "{'type': 'text', 'bbox': [464, 218, 668, 308], 'res': [{'text': 'Renaud Marlet', 'confidence': 0.9696831107139587, 'text_region': [[514.0, 218.0], [621.0, 218.0], [621.0, 234.0], [514.0, 234.0]]}, {'text': 'valeo.ai,Paris', 'confidence': 0.987062931060791, 'text_region': [[522.0, 239.0], [612.0, 239.0], [612.0, 252.0], [522.0, 252.0]]}, {'text': 'LIGM, Ecole des Ponts,', 'confidence': 0.9615887999534607, 'text_region': [[488.0, 254.0], [645.0, 257.0], [644.0, 273.0], [487.0, 271.0]]}, {'text': 'Univ Gustave Eiffel,', 'confidence': 0.9445075988769531, 'text_region': [[501.0, 275.0], [632.0, 275.0], [632.0, 291.0], [501.0, 291.0]]}, {'text': 'CNRS.Marne-la-Vallee.France', 'confidence': 0.9485538601875305, 'text_region': [[465.0, 294.0], [667.0, 295.0], [667.0, 307.0], [465.0, 307.0]]}], 'img_idx': 0}\n",
      "{'type': 'title', 'bbox': [63, 95, 715, 149], 'res': [{'text': 'FKACONV:FEATURE-KERNELALIGNMENTFORPOINT', 'confidence': 0.9981247186660767, 'text_region': [[66.0, 97.0], [712.0, 98.0], [712.0, 117.0], [66.0, 116.0]]}, {'text': 'CLOUDCONVOLUTION', 'confidence': 0.9838709831237793, 'text_region': [[256.0, 130.0], [523.0, 131.0], [522.0, 148.0], [255.0, 146.0]]}], 'img_idx': 0}\n",
      "{'type': 'title', 'bbox': [344, 365, 435, 378], 'res': [], 'img_idx': 0}\n",
      "{'type': 'title', 'bbox': [51, 570, 182, 584], 'res': [], 'img_idx': 0}\n"
     ]
    }
   ],
   "source": [
    "import os\n",
    "import cv2\n",
    "from paddleocr import PPStructure,draw_structure_result,save_structure_res\n",
    "\n",
    "table_engine = PPStructure(show_log=True, image_orientation=True)\n",
    "\n",
    "save_folder = './output'\n",
    "img_path = './test_img/fkaconv.jpg'\n",
    "img = cv2.imread(img_path)\n",
    "result = table_engine(img)\n",
    "save_structure_res(result, save_folder,os.path.basename(img_path).split('.')[0])\n",
    "\n",
    "for line in result:\n",
    "    line.pop('img')\n",
    "    print(line)\n",
    "\n",
    "from PIL import Image\n",
    "\n",
    "font_path='./StyleText/fonts/ko_standard.ttf'\n",
    "image = Image.open(img_path).convert('RGB')\n",
    "im_show = draw_structure_result(image, result,font_path=font_path)\n",
    "im_show = Image.fromarray(im_show)\n",
    "im_show.save('result.jpg')"
   ]
  },
  {
   "cell_type": "code",
   "execution_count": 47,
   "metadata": {},
   "outputs": [],
   "source": [
    "result[1]['res'][0]['text'] = 'Computer Vision image process -'"
   ]
  },
  {
   "cell_type": "code",
   "execution_count": 49,
   "metadata": {},
   "outputs": [
    {
     "data": {
      "text/plain": [
       "{'type': 'text',\n",
       " 'bbox': [28, 602, 732, 967],\n",
       " 'res': [{'text': 'Computer Vision image process -',\n",
       "   'confidence': 0.9779636859893799,\n",
       "   'text_region': [[48.0, 602.0],\n",
       "    [731.0, 604.0],\n",
       "    [731.0, 622.0],\n",
       "    [48.0, 620.0]]},\n",
       "  {'text': 'ing [7, 19]. The discrete formulation of convolution allows a very efficient processing of grid-structured data',\n",
       "   'confidence': 0.9846895337104797,\n",
       "   'text_region': [[49.0, 622.0],\n",
       "    [731.0, 622.0],\n",
       "    [731.0, 639.0],\n",
       "    [49.0, 639.0]]},\n",
       "  {'text': 'such as images in 2D or videos in 3D. Yet a number of tasks require processing unstructured data such as',\n",
       "   'confidence': 0.9767868518829346,\n",
       "   'text_region': [[48.0, 639.0],\n",
       "    [731.0, 640.0],\n",
       "    [731.0, 659.0],\n",
       "    [48.0, 658.0]]},\n",
       "  {'text': 'point clouds, meshes or graphs, with application domains such as autonomous driving, robotics or urban',\n",
       "   'confidence': 0.9869551658630371,\n",
       "   'text_region': [[49.0, 661.0],\n",
       "    [731.0, 661.0],\n",
       "    [731.0, 679.0],\n",
       "    [49.0, 679.0]]},\n",
       "  {'text': 'modeling. However discrete convolution does not directly apply to point clouds as 3D points are not usually',\n",
       "   'confidence': 0.9783743619918823,\n",
       "   'text_region': [[47.0, 678.0],\n",
       "    [731.0, 679.0],\n",
       "    [731.0, 699.0],\n",
       "    [47.0, 698.0]]},\n",
       "  {'text': 'sampledonagrid.',\n",
       "   'confidence': 0.9916447997093201,\n",
       "   'text_region': [[50.0, 701.0],\n",
       "    [167.0, 701.0],\n",
       "    [167.0, 715.0],\n",
       "    [50.0, 715.0]]},\n",
       "  {'text': 'The most straightforward workaround is to voxelize the 3D space to use discrete CNNs [31]. However, as 3D',\n",
       "   'confidence': 0.9772716760635376,\n",
       "   'text_region': [[48.0, 724.0],\n",
       "    [731.0, 725.0],\n",
       "    [731.0, 743.0],\n",
       "    [48.0, 742.0]]},\n",
       "  {'text': 'points are usually sampled on a surface, most of the voxels are empty. For efficient large-scale processing, a',\n",
       "   'confidence': 0.9891754388809204,\n",
       "   'text_region': [[46.0, 743.0],\n",
       "    [731.0, 744.0],\n",
       "    [731.0, 765.0],\n",
       "    [46.0, 764.0]]},\n",
       "  {'text': 'sparse formulation is thus required [37, 60]. Other deep learning approaches generalize convolution to less',\n",
       "   'confidence': 0.9768304824829102,\n",
       "   'text_region': [[48.0, 762.0],\n",
       "    [731.0, 763.0],\n",
       "    [731.0, 785.0],\n",
       "    [48.0, 783.0]]},\n",
       "  {'text': 'structured data, such as graphs or meshes [5,41], but applying them to point clouds requires addressing the',\n",
       "   'confidence': 0.9904542565345764,\n",
       "   'text_region': [[49.0, 783.0],\n",
       "    [730.0, 783.0],\n",
       "    [730.0, 801.0],\n",
       "    [49.0, 801.0]]},\n",
       "  {'text': 'issue of sensiblegraph constructionfirst.',\n",
       "   'confidence': 0.9701863527297974,\n",
       "   'text_region': [[51.0, 804.0],\n",
       "    [310.0, 804.0],\n",
       "    [310.0, 819.0],\n",
       "    [51.0, 819.0]]},\n",
       "  {'text': 'Deep-learning techniques that directly process raw data have been developed to overcome the problem of',\n",
       "   'confidence': 0.9894612431526184,\n",
       "   'text_region': [[50.0, 829.0],\n",
       "    [731.0, 829.0],\n",
       "    [731.0, 847.0],\n",
       "    [50.0, 847.0]]},\n",
       "  {'text': 'point cloud pre-processing [33,50]. Just as for structured data, such networks are usually designed as a',\n",
       "   'confidence': 0.9844386577606201,\n",
       "   'text_region': [[50.0, 849.0],\n",
       "    [731.0, 849.0],\n",
       "    [731.0, 866.0],\n",
       "    [50.0, 866.0]]},\n",
       "  {'text': 'stack of layers and are optimized using stochastic gradient descent and back-propagation. Key issues when',\n",
       "   'confidence': 0.9812647700309753,\n",
       "   'text_region': [[48.0, 865.0],\n",
       "    [731.0, 866.0],\n",
       "    [731.0, 887.0],\n",
       "    [48.0, 886.0]]},\n",
       "  {'text': 'designing these networks include speed and memory efficiency.',\n",
       "   'confidence': 0.9764224886894226,\n",
       "   'text_region': [[49.0, 885.0],\n",
       "    [456.0, 887.0],\n",
       "    [456.0, 906.0],\n",
       "    [49.0, 904.0]]},\n",
       "  {'text': 'In this context, we propose a new convolution method for point cloud processing. It is a mixed discrete-',\n",
       "   'confidence': 0.98380446434021,\n",
       "   'text_region': [[48.0, 913.0],\n",
       "    [730.0, 913.0],\n",
       "    [730.0, 934.0],\n",
       "    [48.0, 934.0]]},\n",
       "  {'text': 'continuous formulation that disentangles the geometry of the convolution kernel and the spatial support',\n",
       "   'confidence': 0.9805220365524292,\n",
       "   'text_region': [[50.0, 933.0],\n",
       "    [731.0, 933.0],\n",
       "    [731.0, 950.0],\n",
       "    [50.0, 950.0]]}],\n",
       " 'img_idx': 0}"
      ]
     },
     "execution_count": 49,
     "metadata": {},
     "output_type": "execute_result"
    }
   ],
   "source": [
    "result[1]"
   ]
  }
 ],
 "metadata": {
  "kernelspec": {
   "display_name": "paddle_env",
   "language": "python",
   "name": "python3"
  },
  "language_info": {
   "codemirror_mode": {
    "name": "ipython",
    "version": 3
   },
   "file_extension": ".py",
   "mimetype": "text/x-python",
   "name": "python",
   "nbconvert_exporter": "python",
   "pygments_lexer": "ipython3",
   "version": "3.8.17"
  },
  "orig_nbformat": 4
 },
 "nbformat": 4,
 "nbformat_minor": 2
}
