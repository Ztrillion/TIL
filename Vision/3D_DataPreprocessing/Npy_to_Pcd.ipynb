{
 "cells": [
  {
   "cell_type": "code",
   "execution_count": null,
   "metadata": {},
   "outputs": [],
   "source": [
    "import numpy as np\n",
    "import struct\n",
    "\n",
    "# Load the npy file\n",
    "data = np.load('/mnt/data/xyzrgb.npy')\n",
    "\n",
    "header = f\"\"\"# .PCD v0.7 - Point Cloud Data file format\n",
    "VERSION 0.7\n",
    "FIELDS x y z rgb\n",
    "SIZE 4 4 4 4\n",
    "TYPE F F F F\n",
    "COUNT 1 1 1 1\n",
    "WIDTH {data.shape[0]}\n",
    "HEIGHT 1\n",
    "VIEWPOINT 0 0 0 1 0 0 0\n",
    "POINTS {data.shape[0]}\n",
    "DATA ascii\n",
    "\"\"\"\n",
    "\n",
    "def rgb_to_float(rgb):\n",
    "    \"\"\"Convert RGB to packed float format used in PCD.\"\"\"\n",
    "    rgb = rgb.astype(np.int64)\n",
    "    packed = np.left_shift(rgb[0], 16) | np.left_shift(rgb[1], 8) | rgb[2]\n",
    "    return float(struct.unpack('f', struct.pack('I', packed))[0])\n",
    "\n",
    "pcd_content = header\n",
    "for point in data:\n",
    "    xyz = point[:3]\n",
    "    rgb_float = rgb_to_float(point[3:6])\n",
    "    pcd_content += f\"{xyz[0]} {xyz[1]} {xyz[2]} {rgb_float}\\n\"\n",
    "\n",
    "\n",
    "pcd_file_path = \"/mnt/data/converted_pointcloud.pcd\"\n",
    "with open(pcd_file_path, 'w') as file:\n",
    "    file.write(pcd_content)\n",
    "\n",
    "pcd_file_path"
   ]
  },
  {
   "cell_type": "code",
   "execution_count": 3,
   "metadata": {},
   "outputs": [],
   "source": [
    "import numpy as np\n",
    "import open3d as o3d\n",
    "\n",
    "# 1. Load the data\n",
    "pcd = o3d.io.read_point_cloud('test_data/11881/converted_pointcloud.pcd')\n",
    "data_xyzrgb = np.asarray(pcd.points)\n",
    "labels = np.load('test_data/11881/label.npy')\n",
    "\n",
    "\n",
    "color_map = {\n",
    "    0: [1, 0, 0],  \n",
    "    1: [0, 1, 0],  \n",
    "}\n",
    "\n",
    "\n",
    "colors = np.array([color_map[label] if label in color_map else [1, 1, 1] for label in labels])\n",
    "pcd.colors = o3d.utility.Vector3dVector(colors)\n",
    "\n",
    "vis = o3d.visualization.Visualizer()\n",
    "vis.create_window()\n",
    "vis.add_geometry(pcd)\n",
    "opt = vis.get_render_option()\n",
    "opt.background_color = np.asarray([0, 0, 0]) \n",
    "vis.run()\n",
    "vis.destroy_window()"
   ]
  }
 ],
 "metadata": {
  "kernelspec": {
   "display_name": "prep",
   "language": "python",
   "name": "python3"
  },
  "language_info": {
   "codemirror_mode": {
    "name": "ipython",
    "version": 3
   },
   "file_extension": ".py",
   "mimetype": "text/x-python",
   "name": "python",
   "nbconvert_exporter": "python",
   "pygments_lexer": "ipython3",
   "version": "3.8.17"
  },
  "orig_nbformat": 4
 },
 "nbformat": 4,
 "nbformat_minor": 2
}
